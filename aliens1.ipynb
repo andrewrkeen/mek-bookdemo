{
 "cells": [
  {
   "cell_type": "code",
   "execution_count": 4,
   "metadata": {},
   "outputs": [],
   "source": [
    "import time\n",
    "import random"
   ]
  },
  {
   "cell_type": "code",
   "execution_count": 5,
   "metadata": {},
   "outputs": [
    {
     "name": "stdout",
     "output_type": "stream",
     "text": [
      "Testing, testing....\n",
      "AHhh, YEs, fINaLlY, THe cOnEcCTiOn eS cOMpLEtE!\n",
      "hElLO CiTISeNs oF eRTh\n"
     ]
    }
   ],
   "source": [
    "print('Testing, testing....')\n",
    "time.sleep(1)\n",
    "print('AHhh, YEs, fINaLlY, THe cOnEcCTiOn eS cOMpLEtE!')\n",
    "time.sleep(random.uniform(1,5))\n",
    "print('hElLO CiTISeNs oF eRTh')"
   ]
  },
  {
   "cell_type": "code",
   "execution_count": 6,
   "metadata": {},
   "outputs": [
    {
     "name": "stdout",
     "output_type": "stream",
     "text": [
      "wHAts YOur lAdDeR CAlLed? TElL mIe nW!Doug\n"
     ]
    }
   ],
   "source": [
    "leader = input('wHAts YOur lAdDeR CAlLed? TElL mIe nW!')"
   ]
  },
  {
   "cell_type": "code",
   "execution_count": 7,
   "metadata": {},
   "outputs": [
    {
     "name": "stdout",
     "output_type": "stream",
     "text": [
      "tAke miE tO Doug\n"
     ]
    }
   ],
   "source": [
    "print('tAke miE tO', leader)"
   ]
  },
  {
   "cell_type": "code",
   "execution_count": 8,
   "metadata": {},
   "outputs": [
    {
     "name": "stdout",
     "output_type": "stream",
     "text": [
      "aHh YEs, eE fOogot dO ASk dOUr aIm. VUt eEs eEt?Me\n"
     ]
    }
   ],
   "source": [
    "name = input('aHh YEs, eE fOogot dO ASk dOUr aIm. VUt eEs eEt?') "
   ]
  },
  {
   "cell_type": "code",
   "execution_count": 9,
   "metadata": {},
   "outputs": [
    {
     "name": "stdout",
     "output_type": "stream",
     "text": [
      "wElL, Me  , pLZd dO AVe yU.\n"
     ]
    }
   ],
   "source": [
    "print('wElL,', name ,' , pLZd dO AVe yU.')"
   ]
  },
  {
   "cell_type": "code",
   "execution_count": 10,
   "metadata": {},
   "outputs": [
    {
     "name": "stdout",
     "output_type": "stream",
     "text": [
      "PLZ STAND BY\n"
     ]
    }
   ],
   "source": [
    "print('PLZ STAND BY')"
   ]
  },
  {
   "cell_type": "code",
   "execution_count": 11,
   "metadata": {},
   "outputs": [
    {
     "name": "stdout",
     "output_type": "stream",
     "text": [
      "PLZ STAND BY\n"
     ]
    }
   ],
   "source": [
    "print('PLZ STAND BY')"
   ]
  },
  {
   "cell_type": "code",
   "execution_count": 12,
   "metadata": {},
   "outputs": [
    {
     "name": "stdout",
     "output_type": "stream",
     "text": [
      "PLZ STAND BY\n"
     ]
    }
   ],
   "source": [
    "print('PLZ STAND BY')"
   ]
  },
  {
   "cell_type": "code",
   "execution_count": 13,
   "metadata": {},
   "outputs": [
    {
     "name": "stdout",
     "output_type": "stream",
     "text": [
      "PLZ STAND BY\n"
     ]
    }
   ],
   "source": [
    "print('PLZ STAND BY')"
   ]
  },
  {
   "cell_type": "code",
   "execution_count": 14,
   "metadata": {},
   "outputs": [
    {
     "name": "stdout",
     "output_type": "stream",
     "text": [
      "PLZ STAND BY\n"
     ]
    }
   ],
   "source": [
    "print('PLZ STAND BY')"
   ]
  },
  {
   "cell_type": "code",
   "execution_count": 15,
   "metadata": {},
   "outputs": [
    {
     "name": "stdout",
     "output_type": "stream",
     "text": [
      "loading....loading....loading.....\n"
     ]
    }
   ],
   "source": [
    "print('loading....loading....loading.....')"
   ]
  },
  {
   "cell_type": "code",
   "execution_count": 16,
   "metadata": {},
   "outputs": [
    {
     "name": "stdout",
     "output_type": "stream",
     "text": [
      "Later........................................................................................................\n"
     ]
    }
   ],
   "source": [
    "print('Later........................................................................................................')"
   ]
  },
  {
   "cell_type": "code",
   "execution_count": 17,
   "metadata": {},
   "outputs": [
    {
     "name": "stdout",
     "output_type": "stream",
     "text": [
      "WARNING! INCOMING AD!\n"
     ]
    }
   ],
   "source": [
    "print('WARNING! INCOMING AD!')"
   ]
  },
  {
   "cell_type": "code",
   "execution_count": 18,
   "metadata": {},
   "outputs": [
    {
     "name": "stdout",
     "output_type": "stream",
     "text": [
      "Hi Guys! Its Jerry The Dinosaur Here, And Today Im ADdressing The Fact That DRAGONS ARE BAD. So We Are Making A Servant System That Involves Dragons! Rent One Today! (I personally HATE these ads. Vive les dragons!(french).)\n"
     ]
    }
   ],
   "source": [
    "print('Hi Guys! Its Jerry The Dinosaur Here, And Today Im ADdressing The Fact That DRAGONS ARE BAD. So We Are Making A Servant System That Involves Dragons! Rent One Today! (I personally HATE these ads. Vive les dragons!(french).)')  "
   ]
  },
  {
   "cell_type": "code",
   "execution_count": 19,
   "metadata": {},
   "outputs": [
    {
     "name": "stdout",
     "output_type": "stream",
     "text": [
      "now, back to the story......\n"
     ]
    }
   ],
   "source": [
    "print('now, back to the story......')"
   ]
  },
  {
   "cell_type": "code",
   "execution_count": 20,
   "metadata": {},
   "outputs": [],
   "source": [
    "how_question = 'sAY,'+ name + ' HOw mUCh lONgER?'"
   ]
  },
  {
   "cell_type": "code",
   "execution_count": 21,
   "metadata": {},
   "outputs": [
    {
     "name": "stdout",
     "output_type": "stream",
     "text": [
      "sAY,Me HOw mUCh lONgER?33\n"
     ]
    }
   ],
   "source": [
    "how = input(how_question)"
   ]
  },
  {
   "cell_type": "code",
   "execution_count": 22,
   "metadata": {},
   "outputs": [
    {
     "name": "stdout",
     "output_type": "stream",
     "text": [
      "33 !!!!!! tHaTs aH loO0ng tIMe!!!!!!!\n"
     ]
    }
   ],
   "source": [
    "print(how,'!!!!!! tHaTs aH loO0ng tIMe!!!!!!!')"
   ]
  },
  {
   "cell_type": "code",
   "execution_count": 23,
   "metadata": {},
   "outputs": [
    {
     "name": "stdout",
     "output_type": "stream",
     "text": [
      "\"lets skip ahead.\"\n"
     ]
    }
   ],
   "source": [
    "print('\"lets skip ahead.\"')"
   ]
  },
  {
   "cell_type": "code",
   "execution_count": 24,
   "metadata": {},
   "outputs": [
    {
     "name": "stdout",
     "output_type": "stream",
     "text": [
      "Later.........\n"
     ]
    }
   ],
   "source": [
    "print('Later.........')"
   ]
  },
  {
   "cell_type": "code",
   "execution_count": 25,
   "metadata": {},
   "outputs": [
    {
     "name": "stdout",
     "output_type": "stream",
     "text": [
      "wEre ErE!\n"
     ]
    }
   ],
   "source": [
    "print('wEre ErE!')"
   ]
  },
  {
   "cell_type": "code",
   "execution_count": 26,
   "metadata": {},
   "outputs": [
    {
     "name": "stdout",
     "output_type": "stream",
     "text": [
      "wEVe REacHEd tHE pLAcE F Doug !\n"
     ]
    }
   ],
   "source": [
    "print('wEVe REacHEd tHE pLAcE F', leader ,'!')"
   ]
  },
  {
   "cell_type": "code",
   "execution_count": 27,
   "metadata": {},
   "outputs": [
    {
     "name": "stdout",
     "output_type": "stream",
     "text": [
      "nOW sHAlL vE Go iN?\n"
     ]
    }
   ],
   "source": [
    "print('nOW sHAlL vE Go iN?')"
   ]
  },
  {
   "cell_type": "code",
   "execution_count": 28,
   "metadata": {},
   "outputs": [
    {
     "name": "stdout",
     "output_type": "stream",
     "text": [
      "ElLO, Doug hONeRD dO mEeT U.\n",
      "Doug : Well, well, well, its the troblesome AlienHead and... Me ?......Is that you?\n"
     ]
    }
   ],
   "source": [
    "print('ElLO,', leader ,'hONeRD dO mEeT U.')\n",
    "      \n",
    "print(leader , ': Well, well, well, its the troblesome AlienHead and...', name ,'?......Is that you?')"
   ]
  },
  {
   "cell_type": "code",
   "execution_count": 29,
   "metadata": {},
   "outputs": [
    {
     "name": "stdout",
     "output_type": "stream",
     "text": [
      "You: ........Wyvrn? What?!\n"
     ]
    }
   ],
   "source": [
    "print('You: ........Wyvrn? What?!')"
   ]
  }
 ],
 "metadata": {
  "kernelspec": {
   "display_name": "Python 3 (ipykernel)",
   "language": "python",
   "name": "python3"
  },
  "language_info": {
   "codemirror_mode": {
    "name": "ipython",
    "version": 3
   },
   "file_extension": ".py",
   "mimetype": "text/x-python",
   "name": "python",
   "nbconvert_exporter": "python",
   "pygments_lexer": "ipython3",
   "version": "3.11.0"
  }
 },
 "nbformat": 4,
 "nbformat_minor": 2
}
